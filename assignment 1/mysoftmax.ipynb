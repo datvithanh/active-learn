{
 "cells": [
  {
   "cell_type": "code",
   "execution_count": 1,
   "metadata": {},
   "outputs": [],
   "source": [
    "import numpy as np"
   ]
  },
  {
   "cell_type": "code",
   "execution_count": 42,
   "metadata": {},
   "outputs": [],
   "source": [
    "def softmax(x):\n",
    "    return np.exp(x - np.max(x, axis = 1, keepdims = True)) / np.sum(np.exp(x), axis = 1, keepdims = True)"
   ]
  },
  {
   "cell_type": "code",
   "execution_count": 49,
   "metadata": {},
   "outputs": [
    {
     "name": "stdout",
     "output_type": "stream",
     "text": [
      "y = [[-0.8663067  -0.98352481 -0.03917494  0.70971543 -0.62599753]\n",
      " [ 0.13507348  0.54461482 -0.49206764 -0.64670971 -0.40498598]\n",
      " [-0.29521866  0.17616622 -0.78273575  0.60459665  0.41750274]\n",
      " [ 1.25156974 -0.49538097 -0.28009715 -1.62000872  0.05078459]\n",
      " [-0.56165308  0.0629944   0.38729244 -0.0259431   0.05474369]]\n",
      "softmax(y) = [[0.0478228  0.04253318 0.10935881 0.23125585 0.06081349]\n",
      " [0.1421538  0.21410165 0.0759267  0.06504806 0.08283495]\n",
      " [0.07080902 0.11345104 0.04348732 0.17412993 0.14441742]\n",
      " [0.16364286 0.02852371 0.0353755  0.00926374 0.0492496 ]\n",
      " [0.07533645 0.14069741 0.19459288 0.12872445 0.13954133]]\n",
      "[1. 1. 1. 1. 1.]\n"
     ]
    }
   ],
   "source": [
    "y = np.random.randn(5,5) #(m,n) m: number of examples, n: example length\n",
    "print(\"y =\",y)\n",
    "print(\"softmax(y) =\", softmax(y))\n",
    "print(np.sum(sy, axis = 1))\n"
   ]
  },
  {
   "cell_type": "code",
   "execution_count": null,
   "metadata": {},
   "outputs": [],
   "source": []
  }
 ],
 "metadata": {
  "kernelspec": {
   "display_name": "Python 3",
   "language": "python",
   "name": "python3"
  },
  "language_info": {
   "codemirror_mode": {
    "name": "ipython",
    "version": 3
   },
   "file_extension": ".py",
   "mimetype": "text/x-python",
   "name": "python",
   "nbconvert_exporter": "python",
   "pygments_lexer": "ipython3",
   "version": "3.6.5"
  }
 },
 "nbformat": 4,
 "nbformat_minor": 2
}

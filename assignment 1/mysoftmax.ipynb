{
 "cells": [
  {
   "cell_type": "code",
   "execution_count": 1,
   "metadata": {},
   "outputs": [],
   "source": [
    "import numpy as np"
   ]
  },
  {
   "cell_type": "code",
   "execution_count": 14,
   "metadata": {},
   "outputs": [],
   "source": [
    "def softmax(x):\n",
    "    return np.exp(x) / np.sum(np.exp(x), axis = 1, keepdims = True)"
   ]
  },
  {
   "cell_type": "code",
   "execution_count": 27,
   "metadata": {},
   "outputs": [
    {
     "name": "stdout",
     "output_type": "stream",
     "text": [
      "y = [[-0.98485411  0.98100213 -0.08492375 -1.06329111 -0.18430435]\n",
      " [-0.7167812  -1.64027361  0.77337243  0.79526511  0.6224124 ]\n",
      " [-0.95946221 -0.01939729  0.17024807 -0.19561294 -1.73750317]\n",
      " [ 1.12490852 -0.00277518  0.20869036 -0.13066    -1.38229781]\n",
      " [ 1.17144407 -0.05725423 -0.8697489  -0.71473789  0.15336207]]\n",
      "wtf [ 0.98100213  0.77337243 -0.19561294  1.12490852  0.15336207]\n"
     ]
    }
   ],
   "source": [
    "y = np.random.randn(5,5) #(m,n) m: number of examples, n: example length\n",
    "print(\"y =\",y)\n",
    "print(\"wtf\",y[np.arange(5), [1, 2, 3, 0, 4]])\n",
    "# print(\"softmax(y) =\", softmax(y))\n"
   ]
  },
  {
   "cell_type": "code",
   "execution_count": null,
   "metadata": {},
   "outputs": [],
   "source": []
  }
 ],
 "metadata": {
  "kernelspec": {
   "display_name": "Python 3",
   "language": "python",
   "name": "python3"
  },
  "language_info": {
   "codemirror_mode": {
    "name": "ipython",
    "version": 3
   },
   "file_extension": ".py",
   "mimetype": "text/x-python",
   "name": "python",
   "nbconvert_exporter": "python",
   "pygments_lexer": "ipython3",
   "version": "3.6.5"
  }
 },
 "nbformat": 4,
 "nbformat_minor": 2
}

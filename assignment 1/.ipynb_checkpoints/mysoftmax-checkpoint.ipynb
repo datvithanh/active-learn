{
 "cells": [
  {
   "cell_type": "code",
   "execution_count": 1,
   "metadata": {},
   "outputs": [],
   "source": [
    "import numpy as np"
   ]
  },
  {
   "cell_type": "code",
   "execution_count": 42,
   "metadata": {},
   "outputs": [],
   "source": [
    "def softmax(x):\n",
    "    return np.exp(x - np.max(x, axis = 1, keepdims = True)) / np.sum(np.exp(x), axis = 1, keepdims = True)"
   ]
  },
  {
   "cell_type": "code",
   "execution_count": 48,
   "metadata": {},
   "outputs": [
    {
     "name": "stdout",
     "output_type": "stream",
     "text": [
      "y = [[ -472.52280355    -6.74983562  -703.56639502  -975.9004098\n",
      "   -956.53614582]\n",
      " [-1348.7557657   -343.50687253   137.12181069  -384.96086057\n",
      "  -1364.8768308 ]\n",
      " [ -300.73874285  -148.55183469  -369.8321801  -1363.61856874\n",
      "    853.49890786]\n",
      " [ 2104.58522849  -145.21916957  1914.17932917   852.21065345\n",
      "    154.4448301 ]\n",
      " [-1087.34929688  1128.88953209  -810.21150166  -261.59148783\n",
      "  -1292.07614332]]\n",
      "\n",
      "[[ -465.77296793     0.          -696.8165594   -969.15057418\n",
      "   -949.7863102 ]\n",
      " [-1485.87757639  -480.62868322     0.          -522.08267126\n",
      "  -1501.99864149]\n",
      " [-1154.23765071 -1002.05074255 -1223.33108796 -2217.1174766\n",
      "      0.        ]\n",
      " [    0.         -2249.80439806  -190.40589932 -1252.37457504\n",
      "  -1950.14039839]\n",
      " [-2216.23882897     0.         -1939.10103374 -1390.48101991\n",
      "  -2420.96567541]]\n"
     ]
    }
   ],
   "source": [
    "y = np.random.randn(5,5) #(m,n) m: number of examples, n: example length\n",
    "print(\"y =\",y)\n",
    "print(\"softmax(y) =\", softmax(y))\n",
    "print(np.sum(sy, axis = 1))\n"
   ]
  },
  {
   "cell_type": "code",
   "execution_count": null,
   "metadata": {},
   "outputs": [],
   "source": []
  }
 ],
 "metadata": {
  "kernelspec": {
   "display_name": "Python 3",
   "language": "python",
   "name": "python3"
  },
  "language_info": {
   "codemirror_mode": {
    "name": "ipython",
    "version": 3
   },
   "file_extension": ".py",
   "mimetype": "text/x-python",
   "name": "python",
   "nbconvert_exporter": "python",
   "pygments_lexer": "ipython3",
   "version": "3.6.5"
  }
 },
 "nbformat": 4,
 "nbformat_minor": 2
}
